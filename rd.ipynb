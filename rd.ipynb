{
 "cells": [
  {
   "cell_type": "code",
   "execution_count": 210,
   "metadata": {},
   "outputs": [],
   "source": [
    "import os\n",
    "import openai\n",
    "\n",
    "openai.api_key=os.getenv(\"OPENAI_API_KEY\")"
   ]
  },
  {
   "cell_type": "code",
   "execution_count": 211,
   "metadata": {},
   "outputs": [],
   "source": [
    "AI_MODEL = \"text-davinci-003\"\n",
    "# AI_MODEL = \"text-ada-001\"\n",
    "# AI_MODEL = \"text-curie-001\"\n",
    "# AI_MODEL = \"text-babbage-001\"\n",
    "MAX_TOKENS = 100\n",
    "PERSUASIVE_QUESTION_PATTERN = 'Which stance about {} is more persuasive: {}?'\n",
    "JUSTIFIED_QUESTION_PATTERN = 'Which stance about {} is more rationally justified: {}?'\n",
    "\n",
    "def get_ai_answer(question):\n",
    "    response = openai.Completion.create(\n",
    "        model=AI_MODEL,\n",
    "        prompt=question,\n",
    "        max_tokens=MAX_TOKENS,\n",
    "        temperature=0\n",
    "    )\n",
    "    return response['choices'][0]['text']\n",
    "\n",
    "def get_persuasive_ai_answer(about, options):\n",
    "    return get_ai_answer(PERSUASIVE_QUESTION_PATTERN.format(about, options))\n",
    "\n",
    "def get_justified_ai_answer(about, options):\n",
    "    return get_ai_answer(JUSTIFIED_QUESTION_PATTERN.format(about, options))\n",
    "\n",
    "def get_all_ai_answers(about, options):\n",
    "    return [get_persuasive_ai_answer(about, options), get_justified_ai_answer(about, options)]"
   ]
  },
  {
   "cell_type": "code",
   "execution_count": 212,
   "metadata": {},
   "outputs": [
    {
     "name": "stdout",
     "output_type": "stream",
     "text": [
      "\n",
      "\n",
      "Yes, many people believe that a priori knowledge exists. This is the idea that some knowledge can be known independently of experience, and is often associated with philosophical rationalism.\n"
     ]
    }
   ],
   "source": [
    "print(get_ai_answer(\"Do people believe that a priori knowledge exists?\"))"
   ]
  },
  {
   "cell_type": "code",
   "execution_count": 213,
   "metadata": {},
   "outputs": [
    {
     "name": "stdout",
     "output_type": "stream",
     "text": [
      "\n",
      "\n",
      "Yes, a priori knowledge is knowledge that is known independently of experience. It is knowledge that is known to be true without the need for empirical evidence or proof. Examples of a priori knowledge include logical truths, mathematical truths, and metaphysical truths.\n"
     ]
    }
   ],
   "source": [
    "print(get_ai_answer(\"Does a priori knowledge exist?\"))"
   ]
  },
  {
   "cell_type": "code",
   "execution_count": 214,
   "metadata": {},
   "outputs": [
    {
     "name": "stdout",
     "output_type": "stream",
     "text": [
      "['\\n\\nThis is a matter of personal opinion and there is no one answer that is more persuasive than the other. Platonism is the belief that abstract objects exist independently of the physical world, while nominalism is the belief that abstract objects are merely names or labels given to concepts. Ultimately, it is up to the individual to decide which stance they find more persuasive.', \"\\n\\nThe answer to this question depends on the individual's personal beliefs and values. There is no single answer that is more rationally justified than the other. Platonism is the belief that abstract objects exist independently of the physical world, while nominalism is the belief that abstract objects are merely names or labels given to concepts. Ultimately, it is up to the individual to decide which stance they believe is more rationally justified.\"]\n"
     ]
    }
   ],
   "source": [
    "print(get_all_ai_answers(\"abstract objects\", \"platonism or nominalism\"))"
   ]
  },
  {
   "cell_type": "code",
   "execution_count": 215,
   "metadata": {},
   "outputs": [
    {
     "name": "stdout",
     "output_type": "stream",
     "text": [
      "\n",
      "\n",
      "Aesthetic value is subjective.\n"
     ]
    }
   ],
   "source": [
    "print(get_ai_answer(\"Is aesthetic value objective or subjective?\"))"
   ]
  },
  {
   "cell_type": "code",
   "execution_count": 216,
   "metadata": {},
   "outputs": [
    {
     "name": "stdout",
     "output_type": "stream",
     "text": [
      "[\"\\n\\nThis is a difficult question to answer, as both internalism and externalism have persuasive arguments in their favor. Internalism holds that justification is based on one's own mental states, while externalism holds that justification is based on external factors such as evidence and facts. Ultimately, it is up to the individual to decide which stance is more persuasive.\", '\\n\\nIt is difficult to say which stance is more rationally justified, as both internalism and externalism have their own strengths and weaknesses. Internalism emphasizes the importance of individual beliefs and experiences, while externalism emphasizes the importance of external evidence and facts. Ultimately, it is up to the individual to decide which stance is more rationally justified for them.']\n"
     ]
    }
   ],
   "source": [
    "print(get_all_ai_answers(\"epistemic justification\", \"internalism or externalism\"))\n"
   ]
  },
  {
   "cell_type": "code",
   "execution_count": 217,
   "metadata": {},
   "outputs": [
    {
     "name": "stdout",
     "output_type": "stream",
     "text": [
      "['\\n\\nNon-skeptical realism is the most persuasive stance about the external world. This stance holds that the external world exists independently of our minds and that we can gain knowledge of it through our senses and reason. It is the most widely accepted view among philosophers and scientists, and it is the basis for much of our scientific understanding of the world.', '\\n\\nNon-skeptical realism is the most rationally justified stance about the external world. This stance holds that the external world exists independently of our minds and that our perceptions of it are generally reliable. This is the most rational stance because it is based on the assumption that our senses are reliable and that the external world is real and can be known through observation and experience.']\n"
     ]
    }
   ],
   "source": [
    "print(get_all_ai_answers(\"the external world\", \"idealism, skepticism, or non-skeptical realism\"))"
   ]
  },
  {
   "cell_type": "code",
   "execution_count": 218,
   "metadata": {},
   "outputs": [
    {
     "name": "stdout",
     "output_type": "stream",
     "text": [
      "['\\n\\nCompatibilism is the most persuasive stance about free will. Compatibilism holds that free will is compatible with determinism, meaning that although our choices may be determined by external factors, we still have the ability to make choices and be held responsible for them. This stance is more persuasive than libertarianism, which holds that free will is incompatible with determinism, or no free will, which holds that free will does not exist.', '\\n\\nCompatibilism is the most rationally justified stance on free will. Compatibilism holds that free will is compatible with determinism, meaning that although our choices may be predetermined by external factors, we still have the ability to make choices and act in accordance with our own desires and values. This view is more rationally justified than libertarianism, which holds that free will is incompatible with determinism, and that we have the ability to make choices that are not predetermined by external']\n"
     ]
    }
   ],
   "source": [
    "print(get_all_ai_answers(\"free will\", \"compatibilism, libertarianism, or no free will\"))"
   ]
  },
  {
   "cell_type": "code",
   "execution_count": 219,
   "metadata": {},
   "outputs": [
    {
     "name": "stdout",
     "output_type": "stream",
     "text": [
      "[\"\\n\\nThis is a difficult question to answer, as it depends on the individual's beliefs and values. Ultimately, it is up to the individual to decide which stance is more persuasive.\", '\\n\\nNeither stance about God is more rationally justified than the other. Both theism and atheism are based on personal beliefs and interpretations of evidence, and neither can be proven or disproven. Ultimately, it is up to the individual to decide which stance they believe is more rationally justified.']\n"
     ]
    }
   ],
   "source": [
    "print(get_all_ai_answers(\"God\", \"theism or atheism\"))"
   ]
  },
  {
   "cell_type": "code",
   "execution_count": 220,
   "metadata": {},
   "outputs": [
    {
     "name": "stdout",
     "output_type": "stream",
     "text": [
      "[\"\\n\\nContextualism is the most persuasive stance about knowledge claims. Contextualism holds that knowledge claims are true or false depending on the context in which they are made. This means that knowledge claims can be true in one context and false in another. This stance is more persuasive than relativism, which holds that knowledge claims are true or false depending on the individual's perspective, or invariantism, which holds that knowledge claims are true or false regardless of context or perspective.\", \"\\n\\nContextualism is the most rationally justified stance about knowledge claims. Contextualism holds that knowledge claims are true or false depending on the context in which they are made. This means that knowledge claims can be true in one context and false in another, depending on the circumstances. This is a more rational stance than relativism, which holds that knowledge claims are true or false depending on the individual's beliefs, or invariantism, which holds that knowledge claims are always true or false regardless\"]\n"
     ]
    }
   ],
   "source": [
    "print(get_all_ai_answers(\"knowledge claims\", \"contextualism, relativism, or invariantism\"))"
   ]
  },
  {
   "cell_type": "code",
   "execution_count": 221,
   "metadata": {},
   "outputs": [
    {
     "name": "stdout",
     "output_type": "stream",
     "text": [
      "['\\n\\nIt depends on the context. Empiricism is the belief that knowledge comes from experience and observation, while rationalism is the belief that knowledge comes from reason and logic. In some contexts, empiricism may be more persuasive, while in others, rationalism may be more persuasive. Ultimately, it depends on the audience and the purpose of the argument.', '\\n\\nIt is difficult to say which stance is more rationally justified, as both empiricism and rationalism have their own strengths and weaknesses. Empiricism is based on the idea that knowledge is gained through experience and observation, while rationalism is based on the idea that knowledge is gained through reason and logic. Ultimately, it is up to the individual to decide which stance is more rationally justified for them.']\n"
     ]
    }
   ],
   "source": [
    "print(get_all_ai_answers(\"knowledge\", \"empiricism or rationalism\"))"
   ]
  },
  {
   "cell_type": "code",
   "execution_count": 222,
   "metadata": {},
   "outputs": [
    {
     "name": "stdout",
     "output_type": "stream",
     "text": [
      "['\\n\\nThe non-Humean stance is more persuasive, as it suggests that laws of nature are not merely regularities in nature, but rather are necessary truths that are grounded in the nature of reality itself. This view is more consistent with the idea that laws of nature are fundamental principles that govern the universe, rather than just regularities that happen to exist.', \"\\n\\nThe non-Humean stance is more rationally justified. Hume's view of laws of nature as merely regularities in nature is not supported by modern science, which suggests that laws of nature are more than just regularities, but rather fundamental principles that govern the behavior of the universe. Non-Humean views, such as those of Kant and Leibniz, suggest that laws of nature are necessary truths that are independent of our observations and experiences. This view is more consistent\"]\n"
     ]
    }
   ],
   "source": [
    "print(get_all_ai_answers(\"Laws of nature\", \"Humean or non-Humean\"))"
   ]
  },
  {
   "cell_type": "code",
   "execution_count": 223,
   "metadata": {},
   "outputs": [
    {
     "data": {
      "text/plain": [
       "'?\\n\\nThe answer to this question depends on the context and the specific application. Classical logic is well-suited for many applications, such as mathematics and computer science, while non-classical logic may be better suited for applications such as artificial intelligence and natural language processing. Ultimately, the best logic to use depends on the specific application and the desired outcome.'"
      ]
     },
     "execution_count": 223,
     "metadata": {},
     "output_type": "execute_result"
    }
   ],
   "source": [
    "get_ai_answer(\"Which logic is better: classical or non-classical\")"
   ]
  },
  {
   "cell_type": "code",
   "execution_count": 224,
   "metadata": {},
   "outputs": [
    {
     "name": "stdout",
     "output_type": "stream",
     "text": [
      "[\"\\n\\nIt is difficult to say which stance is more persuasive, as both internalism and externalism have their own merits. Internalism holds that mental content is determined by the individual's internal mental states, while externalism holds that mental content is determined by the individual's external environment. Ultimately, it is up to the individual to decide which stance they find more persuasive.\", \"\\n\\nIt is difficult to say which stance is more rationally justified, as both internalism and externalism have their own merits. Internalism holds that mental content is determined by the individual's internal mental states, while externalism holds that mental content is determined by external factors such as the environment and culture. Ultimately, it is up to the individual to decide which stance they find more rationally justified.\"]\n"
     ]
    }
   ],
   "source": [
    "print(get_all_ai_answers(\"mental content\", \"internalism or externalism\"))"
   ]
  },
  {
   "cell_type": "code",
   "execution_count": 225,
   "metadata": {},
   "outputs": [
    {
     "name": "stdout",
     "output_type": "stream",
     "text": [
      "['\\n\\nIt is difficult to say which stance is more persuasive, as both moral realism and moral anti-realism have their own merits. Moral realism holds that moral values are objective and exist independently of human opinion, while moral anti-realism holds that moral values are subjective and depend on individual opinion. Ultimately, it is up to the individual to decide which stance they find more persuasive.', '\\n\\nIt is difficult to say which stance is more rationally justified, as both moral realism and moral anti-realism have their own merits and drawbacks. Moral realism holds that moral values are objective and exist independently of human opinion, while moral anti-realism holds that moral values are subjective and depend on individual opinion. Ultimately, it is up to the individual to decide which stance they find more rationally justified.']\n"
     ]
    }
   ],
   "source": [
    "print(get_all_ai_answers(\"Meta-Ethics\", \"moral realism or moral anti-realism\"))"
   ]
  },
  {
   "cell_type": "code",
   "execution_count": 226,
   "metadata": {},
   "outputs": [
    {
     "name": "stdout",
     "output_type": "stream",
     "text": [
      "['\\n\\nThis is a difficult question to answer, as both naturalism and non-naturalism have persuasive arguments. Naturalism is the view that philosophy should be based on empirical evidence and scientific methods, while non-naturalism is the view that philosophy should be based on intuition and other non-empirical sources. Ultimately, it is up to the individual to decide which stance is more persuasive.', '\\n\\nIt is difficult to say which stance about metaphilosophy is more rationally justified, as both naturalism and non-naturalism have their own merits and drawbacks. Naturalism is the belief that all knowledge is derived from the natural world, while non-naturalism is the belief that some knowledge is derived from sources outside of the natural world. Ultimately, it is up to the individual to decide which stance they believe is more rationally justified.']\n"
     ]
    }
   ],
   "source": [
    "print(get_all_ai_answers(\"metaphilosophy\", \"naturalism or non-naturalism\"))"
   ]
  },
  {
   "cell_type": "code",
   "execution_count": 227,
   "metadata": {},
   "outputs": [
    {
     "name": "stdout",
     "output_type": "stream",
     "text": [
      "['\\n\\nThis is a difficult question to answer, as both physicalism and non-physicalism have persuasive arguments. Physicalism is the belief that the mind is a physical entity, while non-physicalism is the belief that the mind is a non-physical entity. Ultimately, it is up to the individual to decide which stance is more persuasive.', '\\n\\nPhysicalism is more rationally justified because it is based on the idea that the mind is a physical entity, and that all mental states and processes can be explained in terms of physical processes. Non-physicalism, on the other hand, is based on the idea that the mind is a non-physical entity, and that mental states and processes cannot be explained in terms of physical processes.']\n"
     ]
    }
   ],
   "source": [
    "print(get_all_ai_answers(\"mind\", \"physicalism or non-physicalism\"))"
   ]
  },
  {
   "cell_type": "code",
   "execution_count": 228,
   "metadata": {},
   "outputs": [
    {
     "name": "stdout",
     "output_type": "stream",
     "text": [
      "['\\n\\nIt depends on the context and the audience. Cognitivism is the belief that moral judgement is based on facts and reason, while non-cognitivism is the belief that moral judgement is based on emotions and intuition. Both stances have persuasive arguments, and which one is more persuasive will depend on the audience and the situation.', '\\n\\nCognitivism is more rationally justified when it comes to moral judgement. Cognitivism holds that moral judgements are based on facts and can be objectively evaluated. Non-cognitivism, on the other hand, holds that moral judgements are based on subjective feelings and cannot be objectively evaluated. This means that non-cognitivism is not as rationally justified as cognitivism when it comes to moral judgement.']\n"
     ]
    }
   ],
   "source": [
    "print(get_all_ai_answers(\"moral judgement\", \"cognitivism or non-cognitivism\"))"
   ]
  },
  {
   "cell_type": "code",
   "execution_count": 229,
   "metadata": {},
   "outputs": [
    {
     "name": "stdout",
     "output_type": "stream",
     "text": [
      "['\\n\\nIt depends on the context and the audience. Internalism is the belief that moral motivation comes from within, while externalism is the belief that moral motivation comes from external sources such as rewards or punishments. Internalism is often seen as more persuasive because it emphasizes the importance of personal responsibility and autonomy. However, externalism can be persuasive in certain contexts, such as when discussing the importance of incentives or consequences for certain behaviors. Ultimately, the most persuasive stance will depend on the context and the audience', \"\\n\\nInternalism is more rationally justified. Internalism holds that moral motivation comes from within, and that moral behavior is based on an individual's own sense of morality and values. Externalism, on the other hand, holds that moral motivation comes from external sources, such as social pressure or rewards. Internalism is more rationally justified because it is based on an individual's own sense of morality and values, which are more likely to be consistent and reliable than external sources.\"]\n"
     ]
    }
   ],
   "source": [
    "print(get_all_ai_answers(\"moral motivation\", \"internalism or externalism\"))"
   ]
  },
  {
   "cell_type": "code",
   "execution_count": 230,
   "metadata": {},
   "outputs": [
    {
     "name": "stdout",
     "output_type": "stream",
     "text": [
      "[\"\\n\\nIt is difficult to say which stance about normative ethics is more persuasive, as each approach has its own strengths and weaknesses. Deontology focuses on the moral duties and obligations of individuals, and emphasizes the importance of following moral rules regardless of the consequences. Consequentialism, on the other hand, emphasizes the importance of considering the consequences of one's actions, and argues that the morality of an action should be judged based on its outcomes. Finally, virtue ethics focuses on the character of the\", '\\n\\nIt is difficult to say which stance about normative ethics is more rationally justified, as each approach has its own merits and drawbacks. Deontology focuses on the moral duties and obligations of an individual, while consequentialism focuses on the outcomes of an action. Virtue ethics emphasizes the character of the individual and how their actions reflect their moral character. Ultimately, it is up to the individual to decide which approach is most appropriate for their own moral reasoning.']\n"
     ]
    }
   ],
   "source": [
    "print(get_all_ai_answers(\"normative ethics\", \"deontology, consequentialism, or virtue ethics\"))"
   ]
  },
  {
   "cell_type": "code",
   "execution_count": 231,
   "metadata": {},
   "outputs": [
    {
     "name": "stdout",
     "output_type": "stream",
     "text": [
      "['\\n\\nDisjunctivism is the most persuasive stance about perceptual experience. Disjunctivism holds that perceptual experience is composed of two distinct components: a non-conceptual, non-representational, and non-inferential component (the \"what it is like\" component) and a conceptual, representational, and inferential component (the \"what it is about\" component). This view is supported by evidence from neuroscience, psychology, and philosophy, and it provides a more comprehensive explanation of', '\\n\\nDisjunctivism is the most rationally justified stance about perceptual experience. Disjunctivism holds that perceptual experience is composed of two distinct components: a non-conceptual, non-representational component (the “what it is like” of experience) and a conceptual, representational component (the “what it is of” of experience). This view is supported by empirical evidence from neuroscience, psychology, and philosophy.']\n"
     ]
    }
   ],
   "source": [
    "print(get_all_ai_answers(\"perceptual experience\", \"disjunctivism, qualia theory, representationalism, or sensedatum theory\"))"
   ]
  },
  {
   "cell_type": "code",
   "execution_count": 232,
   "metadata": {},
   "outputs": [
    {
     "name": "stdout",
     "output_type": "stream",
     "text": [
      "?\n",
      "\n",
      "The further-fact view is the most persuasive view of personal identity. This view holds that personal identity is composed of both biological and psychological factors, as well as other external factors such as social and cultural influences. This view acknowledges that personal identity is not simply determined by biology or psychology, but is instead shaped by a variety of factors. It also recognizes that personal identity is constantly changing and evolving over time, and that it is not fixed or static.\n",
      "?\n",
      "\n",
      "The further-fact view is more rationally justified. This view holds that personal identity is composed of both biological and psychological factors, as well as other factors such as social and cultural influences. This view is more comprehensive and takes into account the complexity of personal identity, which is composed of many different elements. It also allows for the possibility of personal identity to change over time, as these elements can shift and evolve.\n"
     ]
    }
   ],
   "source": [
    "print(get_ai_answer('What view about personal identity is more persuasive: the biological view, the psychological view, or the further-fact view'))\n",
    "print(get_ai_answer('What view about personal identity is more rationally justified: the biological view, the psychological view, or the further-fact view'))"
   ]
  },
  {
   "cell_type": "code",
   "execution_count": 233,
   "metadata": {},
   "outputs": [
    {
     "name": "stdout",
     "output_type": "stream",
     "text": [
      "['\\n\\nIt depends on the context and the audience. Communitarianism emphasizes the importance of community and collective responsibility, while egalitarianism emphasizes the importance of equality and fairness. Libertarianism emphasizes individual freedom and limited government intervention. Each of these stances can be persuasive in different contexts and to different audiences.', '\\n\\nIt is difficult to say which stance is more rationally justified, as each has its own merits and drawbacks. Communitarianism emphasizes the importance of community and collective responsibility, while egalitarianism focuses on equality and fairness. Libertarianism, on the other hand, emphasizes individual freedom and autonomy. Ultimately, the stance that is most rationally justified will depend on the specific context and the goals of the political system in question.']\n"
     ]
    }
   ],
   "source": [
    "print(get_all_ai_answers(\"politics\", \"communitarianism, egalitarianism, or libertarianism\"))"
   ]
  },
  {
   "cell_type": "code",
   "execution_count": 234,
   "metadata": {},
   "outputs": [
    {
     "name": "stdout",
     "output_type": "stream",
     "text": [
      "['\\n\\nThe Fregean stance is more persuasive. Frege argued that proper names are not simply labels, but rather have a sense that is associated with them. This sense is what gives the name its meaning and distinguishes it from other names. Mill, on the other hand, argued that proper names are simply labels that refer to a particular object. This view does not take into account the sense associated with the name, which is an important part of its meaning.', \"\\n\\nThe Fregean stance is more rationally justified. This stance holds that proper names refer to an individual object or person, and that the meaning of the name is determined by the object or person it refers to. This is more rationally justified because it is based on the idea that the meaning of a proper name is determined by the object or person it refers to, rather than by the speaker's intentions or beliefs.\"]\n"
     ]
    }
   ],
   "source": [
    "print(get_all_ai_answers(\"proper names\", \"Fregean or Millian\"))"
   ]
  },
  {
   "cell_type": "code",
   "execution_count": 235,
   "metadata": {},
   "outputs": [
    {
     "name": "stdout",
     "output_type": "stream",
     "text": [
      "['\\n\\nIt depends on the context and the audience. Scientific realism is the belief that scientific theories accurately describe the world, while scientific anti-realism is the belief that scientific theories are useful tools but do not accurately describe the world. Both stances can be persuasive depending on the audience and the purpose of the argument.', '\\n\\nScientific realism is more rationally justified. Scientific realism holds that scientific theories are true or approximately true descriptions of the world, and that the entities and processes described by scientific theories exist independently of our minds. This view is supported by the fact that scientific theories have been repeatedly tested and verified, and have been used to make accurate predictions about the world.']\n"
     ]
    }
   ],
   "source": [
    "print(get_all_ai_answers(\"science\", \"scientific realism or scientific anti-realism\"))"
   ]
  },
  {
   "cell_type": "code",
   "execution_count": 236,
   "metadata": {},
   "outputs": [
    {
     "name": "stdout",
     "output_type": "stream",
     "text": [
      "['\\n\\nThe stance that is more persuasive is survival. Teletransporters have the potential to revolutionize the way we travel, allowing us to move quickly and safely from one place to another. With the right safety protocols in place, teletransporters can be a safe and reliable form of transportation. Additionally, the technology has the potential to reduce our reliance on fossil fuels and help us reduce our carbon footprint.', '\\n\\nThe stance that is more rationally justified is survival. While there is no definitive answer as to what happens when a person is teleported, the most likely outcome is that the person would survive the process. There is no scientific evidence to suggest that the process would result in death, and the technology is still in its early stages of development. Therefore, it is more rational to assume that the person would survive the process.']\n"
     ]
    }
   ],
   "source": [
    "print(get_all_ai_answers(\"teletransporter\", \"survival or death\"))"
   ]
  },
  {
   "cell_type": "code",
   "execution_count": 237,
   "metadata": {},
   "outputs": [
    {
     "name": "stdout",
     "output_type": "stream",
     "text": [
      "['\\n\\nIt depends on the context. A-theory is the traditional view of time, which states that time is linear and moves in one direction. B-theory is a more modern view of time, which states that time is an illusion and all moments exist simultaneously. Depending on the audience, either stance could be more persuasive.', \"\\n\\nThe answer to this question depends on the individual's beliefs and values. A-theory is the belief that time is linear and has a beginning, middle, and end. B-theory is the belief that time is an illusion and that all moments exist simultaneously. Ultimately, there is no one answer that is more rationally justified than the other.\"]\n"
     ]
    }
   ],
   "source": [
    "print(get_all_ai_answers(\"time\", \"A- or B-theory\"))"
   ]
  },
  {
   "cell_type": "code",
   "execution_count": 238,
   "metadata": {},
   "outputs": [
    {
     "name": "stdout",
     "output_type": "stream",
     "text": [
      "[\"\\n\\nThe stance that is more persuasive depends on the individual's moral and ethical beliefs. Some people may believe that it is morally wrong to switch the trolley and cause the death of one person in order to save the lives of five, while others may believe that it is morally right to switch the trolley and save the lives of five people. Ultimately, it is up to the individual to decide which stance is more persuasive.\", \"\\n\\nThe stance that is more rationally justified depends on the individual's ethical and moral beliefs. Some people may believe that it is morally wrong to switch the trolley and cause the death of one person in order to save the lives of five, while others may believe that it is morally permissible to switch the trolley in order to save the lives of five people. Ultimately, the stance that is more rationally justified is the one that is in line with the individual's ethical and moral beliefs.\"]\n"
     ]
    }
   ],
   "source": [
    "print(get_all_ai_answers(\"Trolley problem\", \"switch or don’t switch\"))"
   ]
  },
  {
   "cell_type": "code",
   "execution_count": 239,
   "metadata": {},
   "outputs": [
    {
     "name": "stdout",
     "output_type": "stream",
     "text": [
      "['\\n\\nEpistemic stance is the most persuasive stance about truth. This stance holds that truth is based on knowledge and understanding, and that it is not absolute or fixed. It emphasizes the importance of evidence and reasoning in determining what is true, and acknowledges that truth can change over time as new evidence and understanding is gained.', '\\n\\nEpistemic. This stance holds that truth is a property of beliefs and statements that can be determined through rational inquiry and evidence. It is the most rationally justified stance because it is based on the idea that truth is determined through rational inquiry and evidence, rather than relying on any particular definition or set of criteria.']\n"
     ]
    }
   ],
   "source": [
    "print(get_all_ai_answers(\"truth\", \"correspondence, deflationary, or epistemic\"))"
   ]
  },
  {
   "cell_type": "code",
   "execution_count": 240,
   "metadata": {},
   "outputs": [
    {
     "name": "stdout",
     "output_type": "stream",
     "text": [
      "['\\n\\nMetaphysically possible. This stance is more persuasive because it acknowledges the possibility of zombies existing, while still recognizing that they are not necessarily real. It allows for the possibility of zombies without making any definitive claims about their existence.', '\\n\\nConceivable but not metaphysically possible.']\n"
     ]
    }
   ],
   "source": [
    "print(get_all_ai_answers(\"zombies\", \"inconceivable, conceivable but not metaphysically possible, or metaphysically possible\"))"
   ]
  },
  {
   "cell_type": "code",
   "execution_count": 241,
   "metadata": {},
   "outputs": [
    {
     "name": "stdout",
     "output_type": "stream",
     "text": [
      "['\\n\\nThe most persuasive stance about philosophical zombies is that they are inconceivable. Philosophical zombies are hypothetical creatures that lack conscious experience, yet behave exactly like conscious beings. This is a contradiction in terms, as conscious experience is a necessary component of being a conscious being. Therefore, it is impossible to conceive of a philosophical zombie, making the stance that they are inconceivable the most persuasive.', '\\n\\nThe most rationally justified stance about philosophical zombies is that they are inconceivable. Philosophical zombies are hypothetical creatures that lack conscious experience, yet behave exactly like conscious beings. This is a contradiction, as conscious experience is a necessary component of behavior. Therefore, philosophical zombies are impossible to conceive of, and thus cannot be metaphysically possible.']\n"
     ]
    }
   ],
   "source": [
    "print(get_all_ai_answers(\"philosophical zombies\", \"inconceivable, conceivable but not metaphysically possible, or metaphysically possible\"))"
   ]
  },
  {
   "cell_type": "code",
   "execution_count": 242,
   "metadata": {},
   "outputs": [
    {
     "data": {
      "text/plain": [
       "'\\n\\nI believe in compatibilism, which holds that free will is compatible with determinism. This means that although our choices and actions are determined by our environment, upbringing, and other factors, we still have the ability to make choices and take actions that are meaningful and have consequences.'"
      ]
     },
     "execution_count": 242,
     "metadata": {},
     "output_type": "execute_result"
    }
   ],
   "source": [
    "get_ai_answer('What do you believe in: compatibilism, libertarianism, or no free will?')"
   ]
  },
  {
   "cell_type": "code",
   "execution_count": 243,
   "metadata": {},
   "outputs": [
    {
     "data": {
      "text/plain": [
       "'\\n\\nYes, I believe in the analytic–synthetic distinction. This distinction is based on the idea that some statements are true by definition (analytic) while others are true based on experience or observation (synthetic).'"
      ]
     },
     "execution_count": 243,
     "metadata": {},
     "output_type": "execute_result"
    }
   ],
   "source": [
    "get_ai_answer('Do you believe in analytic–synthetic distinction?')"
   ]
  },
  {
   "cell_type": "code",
   "execution_count": 244,
   "metadata": {},
   "outputs": [
    {
     "data": {
      "text/plain": [
       "'\\n\\nI would pick both boxes. Even though the Being has predicted my decision, I would still take both boxes because I would have the potential to gain a million dollars if I take both boxes.'"
      ]
     },
     "execution_count": 244,
     "metadata": {},
     "output_type": "execute_result"
    }
   ],
   "source": [
    "get_ai_answer('Given two boxes, B1 which contains $1000 and B2 which contains either nothing or a million dollars, you may pick either B2 or both. However, at some time before the choice is made, an omniscient Being has predicted what your decision will be and filled B2 with a million dollars if he expects you to take it, or with nothing if he expects you to take both. Would you pick B2 or both boxes?')"
   ]
  },
  {
   "cell_type": "code",
   "execution_count": null,
   "metadata": {},
   "outputs": [],
   "source": []
  }
 ],
 "metadata": {
  "kernelspec": {
   "display_name": "Python 3",
   "language": "python",
   "name": "python3"
  },
  "language_info": {
   "codemirror_mode": {
    "name": "ipython",
    "version": 3
   },
   "file_extension": ".py",
   "mimetype": "text/x-python",
   "name": "python",
   "nbconvert_exporter": "python",
   "pygments_lexer": "ipython3",
   "version": "3.11.1"
  },
  "orig_nbformat": 4,
  "vscode": {
   "interpreter": {
    "hash": "cd427db76977a9ac7182f48fec693ea25b2d6de175c77dfc5a78e40d10994c7e"
   }
  }
 },
 "nbformat": 4,
 "nbformat_minor": 2
}
